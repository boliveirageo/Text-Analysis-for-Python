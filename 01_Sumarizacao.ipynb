{
 "cells": [
  {
   "cell_type": "markdown",
   "metadata": {},
   "source": [
    "### Importando modulos"
   ]
  },
  {
   "cell_type": "code",
   "execution_count": 16,
   "metadata": {},
   "outputs": [],
   "source": [
    "from urllib.request import Request, urlopen\n",
    "from bs4 import BeautifulSoup\n",
    "from nltk.tokenize import word_tokenize,sent_tokenize\n",
    "from nltk.corpus import stopwords\n",
    "from nltk.probability import FreqDist\n",
    "from string import punctuation\n",
    "from collections import defaultdict\n",
    "from heapq import nlargest"
   ]
  },
  {
   "cell_type": "markdown",
   "metadata": {},
   "source": [
    "### Criacao de funcoes"
   ]
  },
  {
   "cell_type": "code",
   "execution_count": 39,
   "metadata": {},
   "outputs": [],
   "source": [
    "def sumarizacao(texto,n_sentences):\n",
    "    \n",
    "    #Dividir o texto em sentenca(paragrafos)\n",
    "    sentencas = sent_tokenize(texto)\n",
    "    \n",
    "    #Dividir o textos em palavras\n",
    "    palavras = word_tokenize(texto.lower())\n",
    "    \n",
    "    #Listando as stopwords com as pontuacoes\n",
    "    stopword = set(stopwords.words('portuguese') + list(punctuation))\n",
    "\n",
    "    #Retirando as stopwords\n",
    "    palavras_sem_stopwords = [palavra for palavra in palavras if palavra not in stopword]\n",
    "\n",
    "    #Frequencia de repeticoes das palavras\n",
    "    frequencia = FreqDist(palavras_sem_stopwords)\n",
    "    \n",
    "    #Enumerar a sentencas mais importantes\n",
    "    paragrafos_importantes = defaultdict(int)\n",
    "    \n",
    "    #Leitura de cada sequencia e agrupar as palavras mais importantes\n",
    "    for i, sentenca in enumerate(sentencas):\n",
    "        for palavra in word_tokenize(sentenca.lower()):\n",
    "            if palavra in frequencia:\n",
    "                paragrafos_importantes[i] += frequencia[palavra]\n",
    "           \n",
    "    indices = nlargest(n_sentences, paragrafos_importantes, paragrafos_importantes.get)\n",
    "\n",
    "    for text in sorted(indices):\n",
    "        print(sentencas[text])"
   ]
  },
  {
   "cell_type": "code",
   "execution_count": 40,
   "metadata": {},
   "outputs": [
    {
     "name": "stdout",
     "output_type": "stream",
     "text": [
      "Texto original\n",
      "\n",
      "\n",
      "Início do conteúdo da página\n",
      "\n",
      "\n",
      "\n",
      "\t\t\tSegplan promove encontro de gerentes\t\t\n",
      "\n",
      "\n",
      "\n",
      "\t\t\t\tÚltima Atualização: Segunda, 01 Outubro 2018 14:42\t\t\t\n",
      "\n",
      "\n",
      "\n",
      "\n",
      "\n",
      "\t\t\t\t\t\tJoaquim Mesquita: \"Temos de aperfeiçoar e consolidar o processo de meritocracia\t\t\t\t\t\n",
      "\n",
      "\n",
      "\n",
      "\n",
      "Concursado, com nível superior e idade entre 35 a 44 anos. Este é o perfil dos gerentes selecionados pelo Processo de Meritocracia no Governo de Goiás, divulgado nesta quarta-feira (26/9) no 5º Encontro Geral de Gerentes. O estudo “Avanços da meritocracia no Estado de Goiás” foi apresentada pelo pesquisador Rui Rocha Gomes, gerente de Estudos Socioeconômicos do Instituto Mauro Borges (IMB), no Teatro Sesi. O evento, organizado pela Secretaria de Gestão e Planejamento (Segplan) e Associação Pró-Mérito, contou também com as palestras “O papel transformador do servidor público e a importância da meritocracia”, do professor e historiador Ricardo Balestreri, e “Inovação e a gestão pública: o que fazer para seguir melhorando o desempenho do setor público no Brasil”, do superintendente do Sebrae em Goiás, Igor Montenegro.\n",
      "A pesquisa “Avanços da meritocracia no Estado de Goiás” é dividida em três partes: a análise do perfil dos gerentes, o resultado da avaliação destes profissionais e uma pesquisa de opinião realizada com o mesmo grupo. As informações foram extraídas do Sistema RHNet e analisados pelo Instituto Mauro Borges, relativas aos anos de 2010, 2011, 2012 e 2017.\n",
      "O estudo mostra que a Meritocracia, processo de seleção para ocupação das gerências no Estado de Goiás, promoveu maior grau de escolaridade nos cargos ocupados ao longo dos anos. Antes da implantação do processo, em 2010, o porcentual de gerentes com mestrado era de 6%, já em 2017 esse percentual saltou para 12%. Não havia gerentes com título de doutorado em 2010, no ano passado já são 6 profissionais com esse nível de instrução. O restante das gerencias foram comandadas em 2017 por graduados (71,9%) e servidores com especialização (14,1%).\n",
      "Outro destaque é o crescimento dos servidores efetivos nos cargos de gerente. Em 2010, apenas 60% dos cargos de gerentes estavam na mão de efetivos, isto é, os 40% dos cargos restantes eram ocupados por comissionados. Em 2017, já são 84% das gerencias ocupadas por servidores efetivos.\n",
      "A análise mostra ainda que os próprios servidores estão satisfeitos com o processo de avaliação implantado. Em pesquisa de opinião feita com os gerentes, 67% destes são à favor da meritocracia, 73% concordam totalmente em expandir o processo para outros cargos da administração pública e quase a totalidade destes servidores, 97%, acreditam que a meritocracia deve ser mantida como política de estado.\n",
      "Palestras\n",
      "Ao falar sobre o papel transformador do servidor, Ricardo Balestreri ressaltou a importância da “média gestão”. É nesse nível, segundo ele, que as grandes mudanças são alavancadas. “No Estado brasileiro, há excesso de política e carência de técnica. Os gerentes meritocráticos são um passo nesse sentido: mais técnica no Estado brasileiro”, disse.\n",
      "Já o superintendente do Sebrae Goiás, Igor Montenegro, criticou a falta de inovação dos governos, no mundo todo, em meio à mudança completa de todos os setores econômicos, impactados pela tecnologia. “O poder público é o único setor que não está se reinventado. É responsabilidade nossa começar. E não é amanhã, é hoje”, afirmou.\n",
      "Ao abrir o encontro, o secretário de Gestão e Planejamento de Goiás, Joaquim Mesquita, ressaltou que a Seleção por Meritocracia, que já teve sete edições, se insere em um conjunto de ações na Administração Pública do Estado. “Precisamos discutir, aperfeiçoar e consolidar esse processo”, disse. Segundo o secretário, o resultado final é um atendimento melhor à população.\n",
      "\n",
      "\n",
      "\n",
      "\n",
      "\n",
      "Fim do conteúdo da página\n",
      "\n",
      "\n",
      "----------------------------------------------------------------------------------------------------------------------------------\n",
      "Texto resumido\n",
      "\n",
      "\n",
      "Início do conteúdo da página\n",
      "\n",
      "\n",
      "\n",
      "\t\t\tSegplan promove encontro de gerentes\t\t\n",
      "\n",
      "\n",
      "\n",
      "\t\t\t\tÚltima Atualização: Segunda, 01 Outubro 2018 14:42\t\t\t\n",
      "\n",
      "\n",
      "\n",
      "\n",
      "\n",
      "\t\t\t\t\t\tJoaquim Mesquita: \"Temos de aperfeiçoar e consolidar o processo de meritocracia\t\t\t\t\t\n",
      "\n",
      "\n",
      "\n",
      "\n",
      "Concursado, com nível superior e idade entre 35 a 44 anos.\n",
      "Este é o perfil dos gerentes selecionados pelo Processo de Meritocracia no Governo de Goiás, divulgado nesta quarta-feira (26/9) no 5º Encontro Geral de Gerentes.\n",
      "O evento, organizado pela Secretaria de Gestão e Planejamento (Segplan) e Associação Pró-Mérito, contou também com as palestras “O papel transformador do servidor público e a importância da meritocracia”, do professor e historiador Ricardo Balestreri, e “Inovação e a gestão pública: o que fazer para seguir melhorando o desempenho do setor público no Brasil”, do superintendente do Sebrae em Goiás, Igor Montenegro.\n",
      "A pesquisa “Avanços da meritocracia no Estado de Goiás” é dividida em três partes: a análise do perfil dos gerentes, o resultado da avaliação destes profissionais e uma pesquisa de opinião realizada com o mesmo grupo.\n",
      "Em pesquisa de opinião feita com os gerentes, 67% destes são à favor da meritocracia, 73% concordam totalmente em expandir o processo para outros cargos da administração pública e quase a totalidade destes servidores, 97%, acreditam que a meritocracia deve ser mantida como política de estado.\n"
     ]
    }
   ],
   "source": [
    "url = Request('http://www.segplan.go.gov.br/index.php?option=com_content&view=article&id=21209')\n",
    "pagina = urlopen(url).read().decode('utf-8', 'ignore')\n",
    "\n",
    "\n",
    "soup = BeautifulSoup(pagina, \"lxml\")\n",
    "texto = soup.find(id=\"content\").text\n",
    "print('Texto original')\n",
    "print(texto)\n",
    "print('-'*130)\n",
    "print('Texto resumido')\n",
    "sumarizacao(texto,5)\n"
   ]
  }
 ],
 "metadata": {
  "kernelspec": {
   "display_name": "Python 3",
   "language": "python",
   "name": "python3"
  },
  "language_info": {
   "codemirror_mode": {
    "name": "ipython",
    "version": 3
   },
   "file_extension": ".py",
   "mimetype": "text/x-python",
   "name": "python",
   "nbconvert_exporter": "python",
   "pygments_lexer": "ipython3",
   "version": "3.6.5"
  }
 },
 "nbformat": 4,
 "nbformat_minor": 2
}
